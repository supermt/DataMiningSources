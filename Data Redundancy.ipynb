{
 "cells": [
  {
   "cell_type": "markdown",
   "metadata": {},
   "source": [
    "# Data Redundancy\n",
    "\n",
    "    "
   ]
  },
  {
   "cell_type": "code",
   "execution_count": 5,
   "metadata": {},
   "outputs": [
    {
     "name": "stdout",
     "output_type": "stream",
     "text": [
      "Sample code number 0\n",
      "Clump Thickness 1\n",
      "Uniformity of Cell Size 2\n",
      "Uniformity of Cell Shape 3\n",
      "Marginal Adhesion 4\n",
      "Single Epithelial Cell Size 5\n",
      "Bare Nuclei 6\n",
      "Bland Chromatin 7\n",
      "Normal Nucleoli 8\n",
      "Mitoses 9\n",
      "class 10\n",
      "Correlation Matrix\n",
      "[[1.         0.6449125  0.65458908 0.48635624 0.52181622 0.58929649\n",
      "  0.55842816 0.53583455]\n",
      " [0.6449125  1.         0.90688191 0.70558181 0.75179913 0.68456892\n",
      "  0.75572098 0.72286482]\n",
      " [0.65458908 0.90688191 1.         0.6830792  0.71966844 0.70452879\n",
      "  0.73594845 0.71944632]\n",
      " [0.48635624 0.70558181 0.6830792  1.         0.59959907 0.66572329\n",
      "  0.66671533 0.60335241]\n",
      " [0.52181622 0.75179913 0.71966844 0.59959907 1.         0.58290429\n",
      "  0.61610184 0.62888069]\n",
      " [0.58929649 0.68456892 0.70452879 0.66572329 0.58290429 1.\n",
      "  0.6715446  0.57205447]\n",
      " [0.55842816 0.75572098 0.73594845 0.66671533 0.61610184 0.6715446\n",
      "  1.         0.66587781]\n",
      " [0.53583455 0.72286482 0.71944632 0.60335241 0.62888069 0.57205447\n",
      "  0.66587781 1.        ]]\n",
      "Covariance Matrix\n",
      "[[ 7.92839546  5.541164    5.47769019  3.91030781  3.25346893  6.04104923\n",
      "   3.83405684  4.60723465]\n",
      " [ 5.541164    9.3114027   8.22421306  6.14778583  5.07979061  7.6051994\n",
      "   5.62299396  6.73568258]\n",
      " [ 5.47769019  8.22421306  8.8322655   5.79656775  4.73592648  7.62290788\n",
      "   5.33312837  6.52907141]\n",
      " [ 3.91030781  6.14778583  5.79656775  8.1531906   3.7910646   6.92059471\n",
      "   4.64197523  5.26080032]\n",
      " [ 3.25346893  5.07979061  4.73592648  3.7910646   4.90312399  4.6991527\n",
      "   3.32649999  4.25227812]\n",
      " [ 6.04104923  7.6051994   7.62290788  6.92059471  4.6991527  13.25475608\n",
      "   5.96155171  6.35975257]\n",
      " [ 3.83405684  5.62299396  5.33312837  4.64197523  3.32649999  5.96155171\n",
      "   5.94562023  4.95804075]\n",
      " [ 4.60723465  6.73568258  6.52907141  5.26080032  4.25227812  6.35975257\n",
      "   4.95804075  9.32467996]]\n"
     ]
    }
   ],
   "source": [
    "import numpy as np\n",
    "import csv\n",
    "\n",
    "columns = []\n",
    "data = []\n",
    "features = []\n",
    "\n",
    "with open('cleaned-data.csv','r') as myFile:\n",
    "    lines=csv.reader(myFile)\n",
    "    headers = next(lines)\n",
    "    column = 0\n",
    "    for header in headers:\n",
    "        print(header + \" \" + str(column))\n",
    "        columns.append(header)\n",
    "        column = column + 1\n",
    "    line_count = 0\n",
    "    for line in lines:\n",
    "        # print(line)\n",
    "        data.append(line)\n",
    "        features.append([])\n",
    "        for i in range(1,9):\n",
    "            if line[i] == \"?\":\n",
    "                features[line_count].append(0)\n",
    "            else:\n",
    "                features[line_count].append(int(line[i]))\n",
    "        line_count = line_count + 1\n",
    "\n",
    "features = np.matrix(features).T\n",
    "\n",
    "print(\"Correlation Matrix\")\n",
    "print(np.corrcoef(features))\n",
    "print(\"Covariance Matrix\")\n",
    "print(np.cov(features))"
   ]
  },
  {
   "cell_type": "code",
   "execution_count": null,
   "metadata": {},
   "outputs": [],
   "source": []
  }
 ],
 "metadata": {
  "kernelspec": {
   "display_name": "Python 3",
   "language": "python",
   "name": "python3"
  },
  "language_info": {
   "codemirror_mode": {
    "name": "ipython",
    "version": 3
   },
   "file_extension": ".py",
   "mimetype": "text/x-python",
   "name": "python",
   "nbconvert_exporter": "python",
   "pygments_lexer": "ipython3",
   "version": "3.7.2"
  }
 },
 "nbformat": 4,
 "nbformat_minor": 2
}
